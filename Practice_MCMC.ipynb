{
 "cells": [
  {
   "cell_type": "markdown",
   "id": "bbecd5f8",
   "metadata": {},
   "source": [
    "## MCMCの練習"
   ]
  },
  {
   "cell_type": "markdown",
   "id": "4c205e9e",
   "metadata": {},
   "source": [
    "二項分布でMCMCのサンプリングの練習をしてみる。  \n",
    "MCMCを使って二項分布の確率pを求める。  \n",
    "二項分布B(n,p)のnは定数とした。"
   ]
  },
  {
   "cell_type": "markdown",
   "id": "1bc31491",
   "metadata": {},
   "source": [
    "### サンプルデータの作成(二項分布)"
   ]
  },
  {
   "cell_type": "code",
   "execution_count": 1,
   "id": "c2cd1095",
   "metadata": {},
   "outputs": [],
   "source": [
    "import numpy as np\n",
    "import pandas as pd"
   ]
  },
  {
   "cell_type": "code",
   "execution_count": 2,
   "id": "6c5fea21",
   "metadata": {},
   "outputs": [
    {
     "data": {
      "text/plain": [
       "<AxesSubplot:ylabel='Frequency'>"
      ]
     },
     "execution_count": 2,
     "metadata": {},
     "output_type": "execute_result"
    },
    {
     "data": {
      "image/png": "[encoded data removed]",
      "text/plain": [
       "<Figure size 432x288 with 1 Axes>"
      ]
     },
     "metadata": {
      "needs_background": "light"
     },
     "output_type": "display_data"
    }
   ],
   "source": [
    "np.random.seed(0)\n",
    "\n",
    "n= 8\n",
    "data = np.random.binomial(n, 0.2, size=10000)\n",
    "pd.DataFrame(data).plot.hist(bins=8)"
   ]
  },
  {
   "cell_type": "markdown",
   "id": "0707bdad",
   "metadata": {},
   "source": [
    "### 尤度を計算する関数の作成"
   ]
  },
  {
   "cell_type": "code",
   "execution_count": 3,
   "id": "618f860c",
   "metadata": {},
   "outputs": [],
   "source": [
    "from scipy.stats import binom"
   ]
  },
  {
   "cell_type": "code",
   "execution_count": 4,
   "id": "7e395b8e",
   "metadata": {},
   "outputs": [],
   "source": [
    "def bio(y,n,p):\n",
    "    return binom.pmf(y, n, p)"
   ]
  },
  {
   "cell_type": "code",
   "execution_count": 5,
   "id": "639f53bb",
   "metadata": {},
   "outputs": [],
   "source": [
    "def LH_bio(y,n,p):\n",
    "    return bio(y, n, p).sum()"
   ]
  },
  {
   "cell_type": "markdown",
   "id": "569fb9de",
   "metadata": {},
   "source": [
    "### 二項分布内の確率pごとの尤度で辞書を作成  \n",
    "後のforループを高速にするため"
   ]
  },
  {
   "cell_type": "code",
   "execution_count": 6,
   "id": "addb072d",
   "metadata": {},
   "outputs": [],
   "source": [
    "keys = [xi for xi in range(100)]\n",
    "values = [LH_bio(data,n,p*0.01) for p in keys]\n",
    "LH_dict = dict(zip(keys,values))"
   ]
  },
  {
   "cell_type": "code",
   "execution_count": 7,
   "id": "a86531f6",
   "metadata": {},
   "outputs": [
    {
     "data": {
      "text/plain": [
       "<AxesSubplot:>"
      ]
     },
     "execution_count": 7,
     "metadata": {},
     "output_type": "execute_result"
    },
    {
     "data": {
      "image/png": "[encoded data removed]",
      "text/plain": [
       "<Figure size 432x288 with 1 Axes>"
      ]
     },
     "metadata": {
      "needs_background": "light"
     },
     "output_type": "display_data"
    }
   ],
   "source": [
    "df0 = pd.DataFrame([LH_dict]).T\n",
    "df0.plot.line()"
   ]
  },
  {
   "cell_type": "markdown",
   "id": "8bc524b8",
   "metadata": {},
   "source": [
    "### MCMCの1ステップ分の関数の作成"
   ]
  },
  {
   "cell_type": "code",
   "execution_count": 8,
   "id": "dff5a7fd",
   "metadata": {},
   "outputs": [],
   "source": [
    "def step(y,n,p):\n",
    "    # 変更前の尤度を計算\n",
    "    LH0 = LH_dict[round(p*100)]\n",
    "\n",
    "    # 変更後の位置を決定\n",
    "    if np.random.rand()<0.5:\n",
    "        p1 = p+0.01\n",
    "    else:\n",
    "        p1 = p-0.01\n",
    "        \n",
    "    # 変更後の尤度を計算\n",
    "    if p1<0 or 1<p1:\n",
    "        LH1 = 0\n",
    "    else:\n",
    "        LH1 = LH_dict[round(p1*100)]\n",
    "\n",
    "    # 変更後へ遷移するかを計算\n",
    "    if np.random.rand()*LH0<LH1:\n",
    "        return p1\n",
    "    else:\n",
    "        return p"
   ]
  },
  {
   "cell_type": "markdown",
   "id": "af18288f",
   "metadata": {},
   "source": [
    "### ループさせてサンプリング"
   ]
  },
  {
   "cell_type": "code",
   "execution_count": 9,
   "id": "da5a305a",
   "metadata": {},
   "outputs": [],
   "source": [
    "import tqdm"
   ]
  },
  {
   "cell_type": "code",
   "execution_count": 10,
   "id": "7788abdc",
   "metadata": {},
   "outputs": [
    {
     "name": "stderr",
     "output_type": "stream",
     "text": [
      "100%|████████████████████████████████████████████████████████████████████| 1000000/1000000 [00:03<00:00, 331540.53it/s]\n"
     ]
    }
   ],
   "source": [
    "p = 0.2 # 2高分布の確率の初期値\n",
    "samplings = []\n",
    "for i in tqdm.tqdm(range(1_000_000)):\n",
    "    p = step(data,n,p)\n",
    "    samplings.append(p)"
   ]
  },
  {
   "cell_type": "markdown",
   "id": "c769a1ca",
   "metadata": {},
   "source": [
    "### サンプリングの遷移とヒストグラムを作成"
   ]
  },
  {
   "cell_type": "code",
   "execution_count": 11,
   "id": "0375ca37",
   "metadata": {},
   "outputs": [],
   "source": [
    "import seaborn as sns"
   ]
  },
  {
   "cell_type": "code",
   "execution_count": 12,
   "id": "8d0f84c5",
   "metadata": {},
   "outputs": [],
   "source": [
    "df = pd.DataFrame(samplings,columns=[\"1\"])"
   ]
  },
  {
   "cell_type": "markdown",
   "id": "512d11a0",
   "metadata": {},
   "source": [
    "サンプリングの遷移"
   ]
  },
  {
   "cell_type": "code",
   "execution_count": 13,
   "id": "3681cf36",
   "metadata": {},
   "outputs": [
    {
     "data": {
      "text/plain": [
       "<AxesSubplot:>"
      ]
     },
     "execution_count": 13,
     "metadata": {},
     "output_type": "execute_result"
    },
    {
     "data": {
      "image/png": "[encoded data removed]",
      "text/plain": [
       "<Figure size 432x288 with 1 Axes>"
      ]
     },
     "metadata": {
      "needs_background": "light"
     },
     "output_type": "display_data"
    }
   ],
   "source": [
    "df.plot.line()"
   ]
  },
  {
   "cell_type": "markdown",
   "id": "620d311a",
   "metadata": {},
   "source": [
    "サンプリングのヒストグラム"
   ]
  },
  {
   "cell_type": "code",
   "execution_count": 14,
   "id": "4412c5f2",
   "metadata": {},
   "outputs": [
    {
     "data": {
      "text/plain": [
       "<seaborn.axisgrid.FacetGrid at 0x178a46b56d0>"
      ]
     },
     "execution_count": 14,
     "metadata": {},
     "output_type": "execute_result"
    },
    {
     "data": {
      "image/png": "[encoded data removed]",
      "text/plain": [
       "<Figure size 402.375x360 with 1 Axes>"
      ]
     },
     "metadata": {
      "needs_background": "light"
     },
     "output_type": "display_data"
    }
   ],
   "source": [
    "sns.displot(df)"
   ]
  },
  {
   "cell_type": "markdown",
   "id": "ca6a93a3",
   "metadata": {},
   "source": [
    "正解値の0.2付近でヒストグラムが最大に近い。\n",
    "このヒストグラムが確率pごとの尤度で辞書を作成した際の分布と形状が告示しているのは、詳細釣り合いの条件を満たしているからだと思われる。"
   ]
  }
 ],
 "metadata": {
  "kernelspec": {
   "display_name": "Python 3 (ipykernel)",
   "language": "python",
   "name": "python3"
  },
  "language_info": {
   "codemirror_mode": {
    "name": "ipython",
    "version": 3
   },
   "file_extension": ".py",
   "mimetype": "text/x-python",
   "name": "python",
   "nbconvert_exporter": "python",
   "pygments_lexer": "ipython3",
   "version": "3.9.12"
  }
 },
 "nbformat": 4,
 "nbformat_minor": 5
}
