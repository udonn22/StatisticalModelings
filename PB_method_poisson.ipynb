{
 "cells": [
  {
   "cell_type": "markdown",
   "id": "c7a7e8bc",
   "metadata": {},
   "source": [
    "# ポアソン分布とPythonでPB法を使った検定を復習してみた"
   ]
  },
  {
   "cell_type": "markdown",
   "id": "3265783b",
   "metadata": {},
   "source": [
    "## 課題の設定\n",
    "\n",
    "■変数の定義  \n",
    "y: 植物の種のような自然数の測定値  \n",
    "x: 植物の大きさのような連続量の測定値  \n",
    "d: 追肥のような手続きの有り無し(0,1)  "
   ]
  },
  {
   "cell_type": "markdown",
   "id": "f34046b8",
   "metadata": {},
   "source": [
    "■課題  \n",
    "植物の種子数yが、その植物のサイズxと追肥の有り無しdと相関があるのか否かをt検定で判定"
   ]
  },
  {
   "cell_type": "markdown",
   "id": "a8f8555a",
   "metadata": {},
   "source": [
    "■正解のポアソン分布の変数lam(=λ)(観測者は知らない)"
   ]
  },
  {
   "cell_type": "code",
   "execution_count": 1,
   "id": "57f89a0a",
   "metadata": {},
   "outputs": [],
   "source": [
    "import numpy as np\n",
    "def lam(x,d):\n",
    "    return np.exp(2 + 0.2*x +0*d)"
   ]
  },
  {
   "cell_type": "markdown",
   "id": "9282033b",
   "metadata": {},
   "source": [
    "## サンプルの作成"
   ]
  },
  {
   "cell_type": "markdown",
   "id": "049210d8",
   "metadata": {},
   "source": [
    "サンプルを100個作成  \n",
    "各サンプルに対してy,x,dの観測値がある"
   ]
  },
  {
   "cell_type": "code",
   "execution_count": 2,
   "id": "bc4ddb8e",
   "metadata": {},
   "outputs": [],
   "source": [
    "import pandas as pd\n",
    "import seaborn as sns\n",
    "import matplotlib.pyplot as plt"
   ]
  },
  {
   "cell_type": "code",
   "execution_count": 3,
   "id": "c1828c30",
   "metadata": {},
   "outputs": [
    {
     "name": "stdout",
     "output_type": "stream",
     "text": [
      "(100,) (100,) (100,)\n"
     ]
    }
   ],
   "source": [
    "np.random.seed(seed=4)\n",
    "\n",
    "sample_number = 100\n",
    "\n",
    "# 植物の大きさのデータ作成\n",
    "x = np.random.normal(loc   = 0,      # 平均\n",
    "                     scale = 1,      # 標準偏差\n",
    "                     size  = sample_number,# 出力配列のサイズ(タプルも可)\n",
    "                    )\n",
    "\n",
    "# 追肥の有り無しの作成\n",
    "d = np.random.rand(sample_number)\n",
    "d = np.where(d>0.5,1,0).astype(\"float\")\n",
    "\n",
    "# ポアソン分布に従う種子数の作成\n",
    "y = np.random.poisson(lam=lam(x,d)).astype(\"float\")\n",
    "\n",
    "print(x.shape,d.shape,y.shape)"
   ]
  },
  {
   "cell_type": "markdown",
   "id": "9818fbbf",
   "metadata": {},
   "source": [
    "### サンプルの分布の確認"
   ]
  },
  {
   "cell_type": "code",
   "execution_count": 4,
   "id": "2a304505",
   "metadata": {
    "scrolled": true
   },
   "outputs": [
    {
     "data": {
      "text/plain": [
       "<seaborn.axisgrid.JointGrid at 0x21c673a6f40>"
      ]
     },
     "execution_count": 4,
     "metadata": {},
     "output_type": "execute_result"
    },
    {
     "data": {
      "image/png": "[encoded data removed]",
      "text/plain": [
       "<Figure size 432x432 with 3 Axes>"
      ]
     },
     "metadata": {
      "needs_background": "light"
     },
     "output_type": "display_data"
    }
   ],
   "source": [
    "df = pd.DataFrame(np.array([x,y,d]).T, columns=[\"size\",\"seeds\",\"fertilizer\"])\n",
    "sns.jointplot(x=\"size\", y=\"seeds\", data=df,hue=\"fertilizer\")"
   ]
  },
  {
   "cell_type": "markdown",
   "id": "15c524aa",
   "metadata": {},
   "source": [
    "x(size)とy(seeds)の間には正の相関が見て取れますね。"
   ]
  },
  {
   "cell_type": "markdown",
   "id": "69c8f12b",
   "metadata": {},
   "source": [
    "## PB法でのt検定のために、逸脱度の関数を準備"
   ]
  },
  {
   "cell_type": "markdown",
   "id": "7cb7efee",
   "metadata": {},
   "source": [
    "### 離散型確率分布(ポアソン分布)の関数を定義"
   ]
  },
  {
   "cell_type": "code",
   "execution_count": 5,
   "id": "e2eb47b1",
   "metadata": {},
   "outputs": [],
   "source": [
    "from scipy.special import factorial\n",
    "def poisson(y,lam):\n",
    "    return (lam**y)*np.exp(-lam)/factorial(y)"
   ]
  },
  {
   "cell_type": "markdown",
   "id": "e2514612",
   "metadata": {},
   "source": [
    "### 対数尤度関数を定義\n",
    "後の最尤推定でscipy.optimize.minimizeを使うので、符号が逆になっているのに注意(Line6)"
   ]
  },
  {
   "cell_type": "code",
   "execution_count": 6,
   "id": "3128a038",
   "metadata": {},
   "outputs": [],
   "source": [
    "def LH_poisson(bs, y, x, d):\n",
    "    likelihood = 0 #尤度の初期値\n",
    "    for i in np.arange(len(y)):\n",
    "        lam = np.exp(bs[0]+bs[1]*x[i]+bs[2]*d[i])\n",
    "        p = poisson(y[i], lam)\n",
    "        likelihood += -np.log(p) #尤度\n",
    "    return likelihood"
   ]
  },
  {
   "cell_type": "markdown",
   "id": "fd220be8",
   "metadata": {},
   "source": [
    "### 最尤推定した結果を確認"
   ]
  },
  {
   "cell_type": "code",
   "execution_count": 7,
   "id": "a36bef33",
   "metadata": {},
   "outputs": [
    {
     "name": "stdout",
     "output_type": "stream",
     "text": [
      " final_simplex: (array([[2.00348064, 0.16511081, 0.03643272],\n",
      "       [2.00353126, 0.16507797, 0.03633946],\n",
      "       [2.00341721, 0.1650919 , 0.03646299],\n",
      "       [2.00346267, 0.16502908, 0.0364918 ]]), array([251.59320956, 251.59320998, 251.59321002, 251.59321076]))\n",
      "           fun: 251.59320956044354\n",
      "       message: 'Optimization terminated successfully.'\n",
      "          nfev: 245\n",
      "           nit: 132\n",
      "        status: 0\n",
      "       success: True\n",
      "             x: array([2.00348064, 0.16511081, 0.03643272])\n"
     ]
    }
   ],
   "source": [
    "import scipy.optimize as opt\n",
    "result = opt.minimize(LH_poisson, [0,0,0], args=(y,x,d), method=\"Nelder-Mead\")\n",
    "print(result)"
   ]
  },
  {
   "cell_type": "markdown",
   "id": "0146eac5",
   "metadata": {},
   "source": [
    "final_simplexの変数を、正解のポアソン分布の変数[2.0, 0.2, 0]と見比べると近い値が出ているように見えなくもない"
   ]
  },
  {
   "cell_type": "markdown",
   "id": "712fc4b7",
   "metadata": {},
   "source": [
    "## 逸脱度Dと最尤推定結果の変数を返す関数を作成\n",
    "最尤推定の関数の符号が逆なので、逸脱度Dの関数内でも符号を逆にして、逸脱度Dの符号は正しいものにしている"
   ]
  },
  {
   "cell_type": "code",
   "execution_count": 8,
   "id": "0f52cee6",
   "metadata": {},
   "outputs": [],
   "source": [
    "def Deviance(func,ini,y,x,d):\n",
    "    result = opt.minimize(func, ini, args=(y,x,d), method=\"Nelder-Mead\")\n",
    "    return 2*np.log(result[\"final_simplex\"][1][0]), result[\"final_simplex\"][0][0]"
   ]
  },
  {
   "cell_type": "code",
   "execution_count": 9,
   "id": "2baeba8e",
   "metadata": {},
   "outputs": [
    {
     "data": {
      "text/plain": [
       "(11.055627070867262, array([2.00348064, 0.16511081, 0.03643272]))"
      ]
     },
     "execution_count": 9,
     "metadata": {},
     "output_type": "execute_result"
    }
   ],
   "source": [
    "Deviance(LH_poisson,[0,0,0],y,x,d)"
   ]
  },
  {
   "cell_type": "markdown",
   "id": "7987bacc",
   "metadata": {},
   "source": [
    "きちんと一つの関数で逸脱度を算出できることを確認できた。t検定に移ってみよう。"
   ]
  },
  {
   "cell_type": "markdown",
   "id": "4ca6e208",
   "metadata": {},
   "source": [
    "## 準備ができたのでポアソン分布でt検定をやってみよう"
   ]
  },
  {
   "cell_type": "markdown",
   "id": "4ac02ae5",
   "metadata": {},
   "source": [
    "### 今回検討する関数"
   ]
  },
  {
   "cell_type": "markdown",
   "id": "a39feb2e",
   "metadata": {},
   "source": [
    "帰無仮説: λ = exp(b0)  \n",
    "対立仮説: λ = exp(b0+b1×x)  \n",
    "優位水準: α = 0.05"
   ]
  },
  {
   "cell_type": "markdown",
   "id": "dbe56013",
   "metadata": {},
   "source": [
    "### 尤度関数を作成  \n",
    "符合が逆なのに注意"
   ]
  },
  {
   "cell_type": "code",
   "execution_count": 10,
   "id": "d8127590",
   "metadata": {},
   "outputs": [],
   "source": [
    "def LH_poisson0(bs, y, x, d):\n",
    "    likelihood = 0 #尤度の初期値\n",
    "    for i in np.arange(len(y)):\n",
    "        lam = np.exp(bs[0])\n",
    "        p = poisson(y[i], lam)\n",
    "        likelihood += -np.log(p) #尤度\n",
    "    return likelihood"
   ]
  },
  {
   "cell_type": "code",
   "execution_count": 11,
   "id": "cecbe79f",
   "metadata": {},
   "outputs": [],
   "source": [
    "def LH_poisson1(bs, y, x, d):\n",
    "    likelihood = 0 #尤度の初期値\n",
    "    for i in np.arange(len(y)):\n",
    "        lam = np.exp(bs[0]+bs[1]*x[i])\n",
    "        p = poisson(y[i], lam)\n",
    "        likelihood += -np.log(p) #尤度\n",
    "    return likelihood"
   ]
  },
  {
   "cell_type": "markdown",
   "id": "fc356741",
   "metadata": {},
   "source": [
    "### 逸脱度を計算"
   ]
  },
  {
   "cell_type": "code",
   "execution_count": 12,
   "id": "b2f1005a",
   "metadata": {},
   "outputs": [
    {
     "name": "stdout",
     "output_type": "stream",
     "text": [
      "D0   =  11.135893841739918 parameters =  [2.04125]\n",
      "D1   =  11.056631671071443 parameters =  [2.0221098  0.16675181]\n",
      "diff0=  0.07926217066847485\n"
     ]
    }
   ],
   "source": [
    "D0,bs0 = Deviance(LH_poisson0,[0],y,x,d)\n",
    "D1,bs1 = Deviance(LH_poisson1,[0,0],y,x,d)\n",
    "diff0 = D0-D1\n",
    "print(\"D0   = \", D0,\"parameters = \", bs0)\n",
    "print(\"D1   = \", D1,\"parameters = \", bs1)\n",
    "print(\"diff0= \", diff0)"
   ]
  },
  {
   "cell_type": "markdown",
   "id": "0a285802",
   "metadata": {},
   "source": [
    "### パラメトリックブートストラップ(PB)法で検定をする"
   ]
  },
  {
   "cell_type": "markdown",
   "id": "81c194d4",
   "metadata": {},
   "source": [
    "#### 帰無仮説でデータセットを作成"
   ]
  },
  {
   "cell_type": "markdown",
   "id": "171cbf00",
   "metadata": {},
   "source": [
    "帰無仮説(真と仮定するモデル)で最尤推定した結果をもとに、100個で1セットの乱数を1000セット作成する"
   ]
  },
  {
   "cell_type": "code",
   "execution_count": 13,
   "id": "0a44cb22",
   "metadata": {},
   "outputs": [],
   "source": [
    "made_samples = []\n",
    "for i in range(1000):\n",
    "    made_sample = np.random.poisson(lam=np.exp(bs0[0]),size=sample_number).astype(\"float\")\n",
    "    made_samples.append(made_sample)"
   ]
  },
  {
   "cell_type": "markdown",
   "id": "6ec816fe",
   "metadata": {},
   "source": [
    "データセットの一部の分布を確認"
   ]
  },
  {
   "cell_type": "code",
   "execution_count": 14,
   "id": "4532a838",
   "metadata": {},
   "outputs": [
    {
     "data": {
      "text/plain": [
       "<seaborn.axisgrid.JointGrid at 0x21c674ba2e0>"
      ]
     },
     "execution_count": 14,
     "metadata": {},
     "output_type": "execute_result"
    },
    {
     "data": {
      "image/png": "[encoded data removed]",
      "text/plain": [
       "<Figure size 432x432 with 3 Axes>"
      ]
     },
     "metadata": {
      "needs_background": "light"
     },
     "output_type": "display_data"
    }
   ],
   "source": [
    "df = pd.DataFrame(np.array([x,made_samples[1],d]).T, columns=[\"size\",\"seeds\",\"fertilizer\"])\n",
    "sns.jointplot(x=\"size\", y=\"seeds\", data=df,hue=\"fertilizer\")"
   ]
  },
  {
   "cell_type": "markdown",
   "id": "ea93a8b6",
   "metadata": {},
   "source": [
    "#### 1000の乱数のセットに対して、帰無仮説と対立仮説の逸脱度の差を求める。"
   ]
  },
  {
   "cell_type": "code",
   "execution_count": 15,
   "id": "2d301a6c",
   "metadata": {},
   "outputs": [],
   "source": [
    "import tqdm # for文の進捗を表示"
   ]
  },
  {
   "cell_type": "code",
   "execution_count": 16,
   "id": "e9b7d8f3",
   "metadata": {},
   "outputs": [
    {
     "name": "stderr",
     "output_type": "stream",
     "text": [
      "100%|██████████████████████████████████████████████████████████████████████████████| 1000/1000 [02:42<00:00,  6.16it/s]\n"
     ]
    }
   ],
   "source": [
    "diffDs = []\n",
    "for i in tqdm.tqdm(range(1000)):\n",
    "    y = made_samples[i]\n",
    "    D0,bs0 = Deviance(LH_poisson0,[0],y,x,d)\n",
    "    D1,bs1 = Deviance(LH_poisson1,[0,0],y,x,d)\n",
    "    diffD = D0-D1\n",
    "    diffDs.append(diffD)"
   ]
  },
  {
   "cell_type": "markdown",
   "id": "aa9887d7",
   "metadata": {},
   "source": [
    "ヒストグラムで逸脱度の差の分布を確認"
   ]
  },
  {
   "cell_type": "code",
   "execution_count": 17,
   "id": "d04e4f63",
   "metadata": {},
   "outputs": [
    {
     "data": {
      "text/plain": [
       "<seaborn.axisgrid.FacetGrid at 0x21c677b22e0>"
      ]
     },
     "execution_count": 17,
     "metadata": {},
     "output_type": "execute_result"
    },
    {
     "data": {
      "image/png": "[encoded data removed]",
      "text/plain": [
       "<Figure size 360x360 with 1 Axes>"
      ]
     },
     "metadata": {
      "needs_background": "light"
     },
     "output_type": "display_data"
    }
   ],
   "source": [
    "sns.displot(diffDs)"
   ]
  },
  {
   "cell_type": "markdown",
   "id": "1c7f8238",
   "metadata": {},
   "source": [
    "サンプルで求めた帰無仮説と対立仮説の逸脱度の差と優位水準から帰無仮説が棄却できるかどうかを判定する"
   ]
  },
  {
   "cell_type": "code",
   "execution_count": 18,
   "id": "c33a3b12",
   "metadata": {},
   "outputs": [
    {
     "name": "stdout",
     "output_type": "stream",
     "text": [
      "P値: 0 /1000\n"
     ]
    }
   ],
   "source": [
    "count = 0\n",
    "for i in range(1000):\n",
    "    if diffDs[i] >diff0:count+=1\n",
    "\n",
    "print(\"P値:\",count,\"/1000\")"
   ]
  },
  {
   "cell_type": "markdown",
   "id": "fb78b084",
   "metadata": {},
   "source": [
    "P値(=0) < α(=0.05)なので、初期のサンプルで求めた逸脱度の差diff0は無視できる多さではない事がわかる。  \n",
    "よって帰無仮説は棄却される(無に帰す)。"
   ]
  },
  {
   "cell_type": "markdown",
   "id": "28690982",
   "metadata": {},
   "source": [
    "## 第二種の過誤の確率(β)の算出で検定力を確認"
   ]
  },
  {
   "cell_type": "markdown",
   "id": "14f9b13b",
   "metadata": {},
   "source": [
    "#### 対立仮説でデータセットを作成"
   ]
  },
  {
   "cell_type": "markdown",
   "id": "3b768eeb",
   "metadata": {},
   "source": [
    "対立仮説で最尤推定した結果をもとに、100個で1セットの乱数を1000セット作成する"
   ]
  },
  {
   "cell_type": "code",
   "execution_count": 19,
   "id": "7efe1862",
   "metadata": {},
   "outputs": [],
   "source": [
    "made_samples = []\n",
    "for i in range(1000):\n",
    "    made_sample = np.random.poisson(lam=np.exp(bs1[0] + bs1[1]*x),size=sample_number).astype(\"float\")\n",
    "    made_samples.append(made_sample)"
   ]
  },
  {
   "cell_type": "markdown",
   "id": "4fb4ec1c",
   "metadata": {},
   "source": [
    "データセットの一部の分布を確認"
   ]
  },
  {
   "cell_type": "code",
   "execution_count": 20,
   "id": "508ddfa3",
   "metadata": {},
   "outputs": [
    {
     "data": {
      "text/plain": [
       "<seaborn.axisgrid.JointGrid at 0x21c67706d60>"
      ]
     },
     "execution_count": 20,
     "metadata": {},
     "output_type": "execute_result"
    },
    {
     "data": {
      "image/png": "[encoded data removed]",
      "text/plain": [
       "<Figure size 432x432 with 3 Axes>"
      ]
     },
     "metadata": {
      "needs_background": "light"
     },
     "output_type": "display_data"
    }
   ],
   "source": [
    "df = pd.DataFrame(np.array([x,made_samples[1],d]).T, columns=[\"size\",\"seeds\",\"fertilizer\"])\n",
    "sns.jointplot(x=\"size\", y=\"seeds\", data=df,hue=\"fertilizer\")"
   ]
  },
  {
   "cell_type": "markdown",
   "id": "e06bbf4d",
   "metadata": {},
   "source": [
    "1000の乱数のセットに対して、帰無仮説と対立仮説の逸脱度の差を求める。"
   ]
  },
  {
   "cell_type": "code",
   "execution_count": 21,
   "id": "cd86d4df",
   "metadata": {},
   "outputs": [
    {
     "name": "stderr",
     "output_type": "stream",
     "text": [
      "100%|██████████████████████████████████████████████████████████████████████████████| 1000/1000 [02:51<00:00,  5.83it/s]\n"
     ]
    }
   ],
   "source": [
    "diffDs = []\n",
    "for i in tqdm.tqdm(range(1000)):\n",
    "    y = made_samples[i]\n",
    "    D0,bs0 = Deviance(LH_poisson0,[0],y,x,d)\n",
    "    D1,bs1 = Deviance(LH_poisson1,[0,0],y,x,d)\n",
    "    diffD = D0-D1\n",
    "    diffDs.append(diffD)"
   ]
  },
  {
   "cell_type": "markdown",
   "id": "15f73236",
   "metadata": {},
   "source": [
    "逸脱度の分布からβを計算"
   ]
  },
  {
   "cell_type": "code",
   "execution_count": 22,
   "id": "7e3b2160",
   "metadata": {},
   "outputs": [
    {
     "name": "stdout",
     "output_type": "stream",
     "text": [
      "β: 3 /1000\n"
     ]
    }
   ],
   "source": [
    "count = 0\n",
    "for i in range(1000):\n",
    "    if diffDs[i] >diff0:count+=1\n",
    "\n",
    "print(\"β:\",count,\"/1000\")"
   ]
  },
  {
   "cell_type": "markdown",
   "id": "a4b969a5",
   "metadata": {},
   "source": [
    "1-β(=0.997)>0.8なので、この検定は正しいと言えそうだ。"
   ]
  }
 ],
 "metadata": {
  "kernelspec": {
   "display_name": "Python 3 (ipykernel)",
   "language": "python",
   "name": "python3"
  },
  "language_info": {
   "codemirror_mode": {
    "name": "ipython",
    "version": 3
   },
   "file_extension": ".py",
   "mimetype": "text/x-python",
   "name": "python",
   "nbconvert_exporter": "python",
   "pygments_lexer": "ipython3",
   "version": "3.9.12"
  }
 },
 "nbformat": 4,
 "nbformat_minor": 5
}
